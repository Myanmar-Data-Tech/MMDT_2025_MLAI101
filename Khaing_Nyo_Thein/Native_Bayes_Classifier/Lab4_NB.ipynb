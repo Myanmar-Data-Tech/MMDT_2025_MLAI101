{
 "cells": [
  {
   "cell_type": "code",
   "execution_count": 2,
   "metadata": {},
   "outputs": [
    {
     "name": "stdout",
     "output_type": "stream",
     "text": [
      "(21693, 30)\n"
     ]
    }
   ],
   "source": [
    "import pandas as pd\n",
    "\n",
    "df=pd.read_csv('..\\\\data\\\\fraud.csv', index_col = 0)\n",
    "y = df['Class'].values\n",
    "df = df.iloc[:,1:]\n",
    "X = df.drop(columns ='Class').values\n",
    "print(df.shape)"
   ]
  },
  {
   "cell_type": "code",
   "execution_count": 3,
   "metadata": {},
   "outputs": [],
   "source": [
    "from sklearn.model_selection import train_test_split\n",
    "\n",
    "X_train, X_test, y_train, y_test = train_test_split(X,y, \n",
    "                                    test_size = 0.40, \n",
    "                                    random_state=1)"
   ]
  },
  {
   "cell_type": "code",
   "execution_count": null,
   "metadata": {},
   "outputs": [
    {
     "name": "stdout",
     "output_type": "stream",
     "text": [
      "Confusion Matrix for GaussianNB:\n",
      "[[8349  192]\n",
      " [  19  118]]\n",
      "\n",
      "Classification Report for GaussianNB:\n",
      "              precision    recall  f1-score   support\n",
      "\n",
      "           0       1.00      0.98      0.99      8541\n",
      "           1       0.38      0.86      0.53       137\n",
      "\n",
      "    accuracy                           0.98      8678\n",
      "   macro avg       0.69      0.92      0.76      8678\n",
      "weighted avg       0.99      0.98      0.98      8678\n",
      "\n"
     ]
    }
   ],
   "source": [
    "from sklearn.naive_bayes import GaussianNB\n",
    "from sklearn.metrics import confusion_matrix, classification_report\n",
    "\n",
    "gnb = GaussianNB()\n",
    "gnb.fit(X_train, y_train)\n",
    "\n",
    "y_pred_gnb = gnb.predict(X_test)\n",
    "\n",
    "\n",
    "cm_gnb = confusion_matrix(y_test, y_pred_gnb)\n",
    "print(\"Confusion Matrix for GaussianNB:\")\n",
    "print(cm_gnb)\n",
    "\n",
    "\n",
    "cr_gnb = classification_report(y_test, y_pred_gnb)\n",
    "print(\"\\nClassification Report for GaussianNB:\")\n",
    "print(cr_gnb)"
   ]
  },
  {
   "cell_type": "code",
   "execution_count": null,
   "metadata": {},
   "outputs": [
    {
     "name": "stdout",
     "output_type": "stream",
     "text": [
      "Confusion Matrix for MultinomialNB:\n",
      "[[8541    0]\n",
      " [ 137    0]]\n",
      "\n",
      "Classification Report for MultinomialNB:\n",
      "              precision    recall  f1-score   support\n",
      "\n",
      "           0       0.98      1.00      0.99      8541\n",
      "           1       0.00      0.00      0.00       137\n",
      "\n",
      "    accuracy                           0.98      8678\n",
      "   macro avg       0.49      0.50      0.50      8678\n",
      "weighted avg       0.97      0.98      0.98      8678\n",
      "\n"
     ]
    }
   ],
   "source": [
    "from sklearn.preprocessing import MinMaxScaler\n",
    "from sklearn.naive_bayes import MultinomialNB\n",
    "from sklearn.metrics import confusion_matrix, classification_report\n",
    "\n",
    "\n",
    "scaler = MinMaxScaler()\n",
    "X_train_scaled = scaler.fit_transform(X_train)\n",
    "X_test_scaled = scaler.transform(X_test)\n",
    "\n",
    "\n",
    "mnb = MultinomialNB(alpha=1.0)\n",
    "mnb.fit(X_train_scaled, y_train)\n",
    "\n",
    "y_pred_mnb = mnb.predict(X_test_scaled)\n",
    "\n",
    "cm_mnb = confusion_matrix(y_test, y_pred_mnb)\n",
    "print(\"Confusion Matrix for MultinomialNB:\")\n",
    "print(cm_mnb)\n",
    "\n",
    "cr_mnb = classification_report(y_test, y_pred_mnb, zero_division=0)\n",
    "print(\"\\nClassification Report for MultinomialNB:\")\n",
    "print(cr_mnb)\n",
    "\n"
   ]
  },
  {
   "cell_type": "code",
   "execution_count": 11,
   "metadata": {},
   "outputs": [
    {
     "name": "stdout",
     "output_type": "stream",
     "text": [
      "Confusion Matrix for BernoulliNB:\n",
      "[[8533    8]\n",
      " [  33  104]]\n",
      "\n",
      "Classification Report for BernoulliNB:\n",
      "              precision    recall  f1-score   support\n",
      "\n",
      "           0       1.00      1.00      1.00      8541\n",
      "           1       0.93      0.76      0.84       137\n",
      "\n",
      "    accuracy                           1.00      8678\n",
      "   macro avg       0.96      0.88      0.92      8678\n",
      "weighted avg       1.00      1.00      1.00      8678\n",
      "\n"
     ]
    }
   ],
   "source": [
    "from sklearn.naive_bayes import BernoulliNB\n",
    "bnb = BernoulliNB(alpha=1.0)\n",
    "bnb.fit(X_train, y_train)\n",
    "\n",
    "# Predict using BernoulliNB\n",
    "y_pred_bnb = bnb.predict(X_test)\n",
    "\n",
    "# Confusion Matrix\n",
    "cm_bnb = confusion_matrix(y_test, y_pred_bnb)\n",
    "print(\"Confusion Matrix for BernoulliNB:\")\n",
    "print(cm_bnb)\n",
    "\n",
    "# Classification Report\n",
    "cr_bnb = classification_report(y_test, y_pred_bnb, zero_division=0)\n",
    "print(\"\\nClassification Report for BernoulliNB:\")\n",
    "print(cr_bnb)\n"
   ]
  }
 ],
 "metadata": {
  "kernelspec": {
   "display_name": "Python 3",
   "language": "python",
   "name": "python3"
  },
  "language_info": {
   "codemirror_mode": {
    "name": "ipython",
    "version": 3
   },
   "file_extension": ".py",
   "mimetype": "text/x-python",
   "name": "python",
   "nbconvert_exporter": "python",
   "pygments_lexer": "ipython3",
   "version": "3.13.5"
  },
  "orig_nbformat": 4
 },
 "nbformat": 4,
 "nbformat_minor": 2
}
