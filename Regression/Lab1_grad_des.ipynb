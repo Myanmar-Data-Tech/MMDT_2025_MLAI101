{
  "cells": [
    {
      "cell_type": "markdown",
      "metadata": {
        "id": "view-in-github",
        "colab_type": "text"
      },
      "source": [
        "<a href=\"https://colab.research.google.com/github/Eaint-shin/MMDT_2025_MLAI101/blob/AintKyiPhyuShin/Regression/Lab1_grad_des.ipynb\" target=\"_parent\"><img src=\"https://colab.research.google.com/assets/colab-badge.svg\" alt=\"Open In Colab\"/></a>"
      ]
    },
    {
      "cell_type": "code",
      "execution_count": 15,
      "id": "84dd2f47-4d52-4fe5-81b1-6798ed2dcf0e",
      "metadata": {
        "colab": {
          "base_uri": "https://localhost:8080/"
        },
        "id": "84dd2f47-4d52-4fe5-81b1-6798ed2dcf0e",
        "outputId": "874e375e-a2e8-487c-f971-145bf5fa4763"
      },
      "outputs": [
        {
          "output_type": "execute_result",
          "data": {
            "text/plain": [
              "Index(['TV', 'radio', 'newspaper', 'sales'], dtype='object')"
            ]
          },
          "metadata": {},
          "execution_count": 15
        }
      ],
      "source": [
        "import pandas as pd\n",
        "import numpy as np\n",
        "import matplotlib.pyplot as plt\n",
        "import seaborn as sns\n",
        "import random\n",
        "import math\n",
        "\n",
        "df=pd.read_csv('sample_data/Advertising.csv', index_col = 0)\n",
        "df.columns"
      ]
    },
    {
      "cell_type": "code",
      "execution_count": 16,
      "id": "40638276-e31c-41a7-a769-48359633d35f",
      "metadata": {
        "id": "40638276-e31c-41a7-a769-48359633d35f"
      },
      "outputs": [],
      "source": [
        "sel_program = 'radio'\n",
        "X=df[[sel_program]]\n",
        "Y=df['sales']\n",
        "Y=np.array((Y-Y.mean())/Y.std())\n",
        "#X = np.array((X-X.mean())/X.std())\n",
        "\n",
        "X=X.apply(lambda rec:(rec-rec.mean())/rec.std(),axis=0)"
      ]
    },
    {
      "cell_type": "code",
      "execution_count": 17,
      "id": "f600d27a-7964-412e-bd36-3aeafa582b3f",
      "metadata": {
        "id": "f600d27a-7964-412e-bd36-3aeafa582b3f"
      },
      "outputs": [],
      "source": [
        "def initialize(dim):\n",
        "    b=random.random()\n",
        "    a=np.random.rand(dim)\n",
        "    return b,a"
      ]
    },
    {
      "cell_type": "code",
      "source": [],
      "metadata": {
        "id": "1CaPr9UX2umC"
      },
      "id": "1CaPr9UX2umC",
      "execution_count": 17,
      "outputs": []
    },
    {
      "cell_type": "code",
      "execution_count": 18,
      "id": "cdaa0f71-0fdc-4bfe-9239-657c200e2d35",
      "metadata": {
        "id": "cdaa0f71-0fdc-4bfe-9239-657c200e2d35"
      },
      "outputs": [],
      "source": [
        "def predict_Y(b,a,X):\n",
        "    return b + np.dot(X,a)"
      ]
    },
    {
      "cell_type": "code",
      "execution_count": 19,
      "id": "51e800ff-8b1e-4c61-9d17-4486d2499102",
      "metadata": {
        "id": "51e800ff-8b1e-4c61-9d17-4486d2499102"
      },
      "outputs": [],
      "source": [
        "def get_cost(Y,Y_hat):\n",
        "    Y_resd=Y-Y_hat\n",
        "    return np.sum(np.dot(Y_resd.T,Y_resd))/len(Y)"
      ]
    },
    {
      "cell_type": "code",
      "execution_count": 20,
      "id": "745881b3-acdd-4ff8-971b-1f13dbb750ff",
      "metadata": {
        "id": "745881b3-acdd-4ff8-971b-1f13dbb750ff"
      },
      "outputs": [],
      "source": [
        "def update_theta(x,y,y_hat,b_0,theta_o,learning_rate):\n",
        "    db=(np.sum(y_hat-y)*2)/len(y)\n",
        "    dw=(np.dot((y_hat-y),x)*2)/len(y)\n",
        "    b_1=b_0-learning_rate*db\n",
        "    theta_1=theta_o-learning_rate*dw\n",
        "    return b_1,theta_1"
      ]
    },
    {
      "cell_type": "code",
      "execution_count": 21,
      "id": "a69da9b3-c076-4d7b-be46-ad4424a8b408",
      "metadata": {
        "colab": {
          "base_uri": "https://localhost:8080/"
        },
        "id": "a69da9b3-c076-4d7b-be46-ad4424a8b408",
        "outputId": "22c591ff-4920-4e64-b8c1-336a2f14701b"
      },
      "outputs": [
        {
          "output_type": "stream",
          "name": "stdout",
          "text": [
            "     iteration   value_b  value_weight      cost\n",
            "0          0.0  0.266439      0.824384  0.802334\n",
            "1          1.0  0.261110      0.819445  0.796893\n",
            "2          2.0  0.255888      0.814605  0.791668\n",
            "3          3.0  0.250770      0.809861  0.786649\n",
            "4          4.0  0.245755      0.805212  0.781828\n",
            "..         ...       ...           ...       ...\n",
            "211      211.0  0.003752      0.579794  0.664656\n",
            "212      212.0  0.003677      0.579722  0.664654\n",
            "213      213.0  0.003604      0.579653  0.664653\n",
            "214      214.0  0.003532      0.579585  0.664652\n",
            "215      215.0  0.003461      0.579518  0.664651\n",
            "\n",
            "[216 rows x 4 columns]\n"
          ]
        }
      ],
      "source": [
        "def run_gradient_descent(X,Y,alpha,num_iterations):\n",
        "    tolerance = 1e-06\n",
        "    b,theta=initialize(X.shape[1])\n",
        "\n",
        "    gd_iterations_df=pd.DataFrame(columns=['iteration','value_b', 'value_weight', 'cost'])\n",
        "    result_idx=0\n",
        "    prev_cost =0\n",
        "\n",
        "    for iter_num in range(num_iterations):\n",
        "        Y_hat=predict_Y(b,theta,X)\n",
        "        this_cost=get_cost(Y,Y_hat)\n",
        "        prev_b=b\n",
        "        prev_theta=theta\n",
        "        b,theta=update_theta(X,Y,Y_hat,prev_b,prev_theta,alpha)\n",
        "        gd_iterations_df.loc[result_idx]=[iter_num,b, theta[0], this_cost]\n",
        "        result_idx=result_idx+1\n",
        "        if (np.abs(this_cost  - prev_cost )<= tolerance):\n",
        "            break\n",
        "        prev_cost = this_cost\n",
        "    return gd_iterations_df,b,theta\n",
        "\n",
        "gd_iterations_df,b,theta=run_gradient_descent(X,Y,alpha=0.01,num_iterations=400)\n",
        "\n",
        "print(gd_iterations_df)"
      ]
    },
    {
      "cell_type": "code",
      "execution_count": 22,
      "id": "095c1e69-3f88-4216-93b1-937c2f660ec8",
      "metadata": {
        "id": "095c1e69-3f88-4216-93b1-937c2f660ec8"
      },
      "outputs": [],
      "source": [
        "#sns.scatterplot(data=gd_iterations_df, x=\"value_weight\", y=\"cost\")"
      ]
    },
    {
      "cell_type": "code",
      "execution_count": 23,
      "id": "9de3d8f6-9405-435b-abbe-c358554c70a4",
      "metadata": {
        "colab": {
          "base_uri": "https://localhost:8080/"
        },
        "id": "9de3d8f6-9405-435b-abbe-c358554c70a4",
        "outputId": "3949ba88-677b-4892-c404-e5898d3d5750"
      },
      "outputs": [
        {
          "output_type": "execute_result",
          "data": {
            "text/plain": [
              "np.float64(0.5795176660185877)"
            ]
          },
          "metadata": {},
          "execution_count": 23
        }
      ],
      "source": [
        "idx = gd_iterations_df['cost'].argmin()\n",
        "best_parameters = gd_iterations_df.loc[idx, ['value_b', 'value_weight']]\n",
        "best_parameters['value_weight']\n"
      ]
    },
    {
      "cell_type": "code",
      "execution_count": 24,
      "id": "deb46d54-f209-4117-a407-7df5128810d6",
      "metadata": {
        "id": "deb46d54-f209-4117-a407-7df5128810d6"
      },
      "outputs": [],
      "source": [
        "x = df[sel_program]\n",
        "y_ini = gd_iterations_df.loc[0, 'value_b'] + gd_iterations_df.loc[0, 'value_weight']*x\n",
        "y_hat = gd_iterations_df.loc[idx, 'value_b'] + gd_iterations_df.loc[idx, 'value_weight']*x"
      ]
    },
    {
      "cell_type": "code",
      "execution_count": 25,
      "id": "66921f55",
      "metadata": {
        "colab": {
          "base_uri": "https://localhost:8080/"
        },
        "id": "66921f55",
        "outputId": "e5091448-8b3a-455d-fd22-57c16a4f64e9"
      },
      "outputs": [
        {
          "output_type": "stream",
          "name": "stdout",
          "text": [
            "radio 0.6358443062953058 0.664650488826015\n"
          ]
        },
        {
          "output_type": "execute_result",
          "data": {
            "text/plain": [
              "np.int64(100)"
            ]
          },
          "metadata": {},
          "execution_count": 25
        }
      ],
      "source": [
        "import numpy as np\n",
        "\n",
        "y_p = gd_iterations_df.loc[idx, 'value_b'] + gd_iterations_df.loc[idx, 'value_weight']*X\n",
        "error = np.sum(np.abs(Y- y_p[sel_program]))/len(Y)\n",
        "print(sel_program, error, get_cost(Y, y_p[sel_program]))\n",
        "\n",
        "np.sum(((np.abs(Y- y_p[sel_program]))>0.5))\n"
      ]
    },
    {
      "cell_type": "code",
      "execution_count": 26,
      "id": "38865ca8-ed4b-4b9d-b26e-0703690ed024",
      "metadata": {
        "colab": {
          "base_uri": "https://localhost:8080/",
          "height": 449
        },
        "id": "38865ca8-ed4b-4b9d-b26e-0703690ed024",
        "outputId": "502a7ad9-b3d9-4f6a-c017-ce235c7cee30"
      },
      "outputs": [
        {
          "output_type": "display_data",
          "data": {
            "text/plain": [
              "<Figure size 640x480 with 1 Axes>"
            ],
            "image/png": "[encoded data removed]"
          },
          "metadata": {}
        }
      ],
      "source": [
        "sns.scatterplot(data=df, x=sel_program, y=\"sales\")\n",
        "plt.plot( x,  y_ini, 'k', x, y_hat, 'r')\n",
        "plt.legend(['training data', 'predicted_sales with initial parameters',\n",
        "            'predicted_sales with best parameters'])\n",
        "plt.show()"
      ]
    }
  ],
  "metadata": {
    "kernelspec": {
      "display_name": ".venv",
      "language": "python",
      "name": "python3"
    },
    "language_info": {
      "codemirror_mode": {
        "name": "ipython",
        "version": 3
      },
      "file_extension": ".py",
      "mimetype": "text/x-python",
      "name": "python",
      "nbconvert_exporter": "python",
      "pygments_lexer": "ipython3",
      "version": "3.12.2"
    },
    "colab": {
      "provenance": [],
      "include_colab_link": true
    }
  },
  "nbformat": 4,
  "nbformat_minor": 5
}