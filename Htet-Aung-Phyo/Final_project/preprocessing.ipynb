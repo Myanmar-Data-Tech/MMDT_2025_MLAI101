{
 "cells": [
  {
   "cell_type": "markdown",
   "id": "31db0570",
   "metadata": {},
   "source": [
    "# importing"
   ]
  },
  {
   "cell_type": "code",
   "execution_count": 1,
   "id": "7019f7ff",
   "metadata": {},
   "outputs": [],
   "source": [
    "import pandas as pd"
   ]
  },
  {
   "cell_type": "code",
   "execution_count": 2,
   "id": "7f4a6580",
   "metadata": {},
   "outputs": [],
   "source": [
    "import matplotlib.pyplot as plt"
   ]
  },
  {
   "cell_type": "markdown",
   "id": "19cec4b9",
   "metadata": {},
   "source": [
    "## same with other team member dataset"
   ]
  },
  {
   "cell_type": "markdown",
   "id": "8849b32f",
   "metadata": {},
   "source": [
    "### Dataset can be downloaded here: https://drive.google.com/file/d/1ipuh9aa36Da9fMC9O72pN-GfD5uo41A-/view?usp=sharing"
   ]
  },
  {
   "cell_type": "code",
   "execution_count": 3,
   "id": "2afdcd77",
   "metadata": {},
   "outputs": [],
   "source": [
    "df = pd.read_csv('D:/Tyler_Data/Other Skills/Datascience/HtetOps/Cancer_Predictive_Analytics/data/cancer_data_2004_2015.csv')"
   ]
  },
  {
   "cell_type": "markdown",
   "id": "284d444b",
   "metadata": {},
   "source": [
    "## dropping unrealted columns"
   ]
  },
  {
   "cell_type": "code",
   "execution_count": 4,
   "id": "98c0d9f8",
   "metadata": {},
   "outputs": [],
   "source": [
    "df = df.drop(columns=['Histologic Type ICD-O-3','Grade Recode (thru 2017)','RX Summ--Scope Reg LN Sur (2003+)',\n",
    "                      'RX Summ--Surg Oth Reg/Dis (2003+)',],axis=1)"
   ]
  },
  {
   "cell_type": "markdown",
   "id": "c12277fd",
   "metadata": {},
   "source": [
    "## renaming columns"
   ]
  },
  {
   "cell_type": "code",
   "execution_count": 5,
   "id": "2e02bef7",
   "metadata": {},
   "outputs": [],
   "source": [
    "df = df.rename(columns={'Patient ID':'ID', 'Age recode with single ages and 85+':'age', 'Sex':'sex',\n",
    "                        'Race recode (White, Black, Other)':'race', 'Marital status at diagnosis':'marital_status',\n",
    "                        'Median household income inflation adj to 2023':'household_income','Rural-Urban Continuum Code':'location',\n",
    "                        'Year of diagnosis':'year', 'Primary Site - labeled':'primary_site', 'CS tumor size (2004-2015)':'tumor_size',\n",
    "                        'CS extension (2004-2015)':'tumor_spread', 'CS lymph nodes (2004-2015)':'tumor_lymph_nodes', \n",
    "                        'CS mets at dx (2004-2015)':'length_from_primary_diagnosis','Derived AJCC Stage Group, 6th ed (2004-2015)':'AJCC_stage',\n",
    "                         'RX Summ--Surg Prim Site (1998+)':'surgery_primary', 'Radiation recode':'radiation','Chemotherapy recode (yes, no/unk)':'chemotherapy', \n",
    "                         'Survival months':'survival_month','COD to site recode':\"cod\", 'SEER cause-specific death classification':'cod_case',\n",
    "                         'Vital status recode (study cutoff used)':'vital_status'})"
   ]
  },
  {
   "cell_type": "markdown",
   "id": "c441c8d9",
   "metadata": {},
   "source": [
    "## ID"
   ]
  },
  {
   "cell_type": "code",
   "execution_count": 6,
   "id": "187ea157",
   "metadata": {},
   "outputs": [
    {
     "name": "stdout",
     "output_type": "stream",
     "text": [
      "1336877\n",
      "1454497\n"
     ]
    }
   ],
   "source": [
    "print(df['ID'].nunique())\n",
    "print(len(df['ID']))"
   ]
  },
  {
   "cell_type": "code",
   "execution_count": 7,
   "id": "fea86ad8",
   "metadata": {},
   "outputs": [],
   "source": [
    "# dropping duplicate of ID\n",
    "df.drop_duplicates(subset=['ID'],inplace=True)"
   ]
  },
  {
   "cell_type": "code",
   "execution_count": 8,
   "id": "1ba2042b",
   "metadata": {},
   "outputs": [
    {
     "name": "stdout",
     "output_type": "stream",
     "text": [
      "1336877\n",
      "1336877\n"
     ]
    }
   ],
   "source": [
    "print(df['ID'].nunique())\n",
    "print(len(df['ID']))"
   ]
  },
  {
   "cell_type": "markdown",
   "id": "6a9fd643",
   "metadata": {},
   "source": [
    "## Age"
   ]
  },
  {
   "cell_type": "code",
   "execution_count": 9,
   "id": "c38a6480",
   "metadata": {},
   "outputs": [],
   "source": [
    "df['age']=df['age'].str.replace(' years','',regex=False)\n",
    "df['age']=df['age'].str.replace('+','')\n",
    "df['age']=df['age'].astype('int')"
   ]
  },
  {
   "cell_type": "markdown",
   "id": "91579d38",
   "metadata": {},
   "source": [
    "# collapsing primary site"
   ]
  },
  {
   "cell_type": "code",
   "execution_count": 10,
   "id": "7935204e",
   "metadata": {},
   "outputs": [
    {
     "data": {
      "text/plain": [
       "array(['C19.9-Rectosigmoid junction', 'C38.1-Anterior mediastinum',\n",
       "       'C44.4-Skin of scalp and neck', 'C74.9-Adrenal gland, NOS',\n",
       "       'C44.3-Skin other/unspec parts of face', 'C54.1-Endometrium',\n",
       "       'C42.1-Bone marrow', 'C50.9-Breast, NOS',\n",
       "       'C50.1-Central portion of breast', 'C65.9-Renal pelvis',\n",
       "       'C16.0-Cardia, NOS', 'C61.9-Prostate gland', 'C22.0-Liver',\n",
       "       'C44.8-Overlapping lesion of skin', 'C34.3-Lower lobe, lung',\n",
       "       'C50.4-Upper-outer quadrant of breast',\n",
       "       'C50.3-Lower-inner quadrant of breast',\n",
       "       'C80.9-Unknown primary site',\n",
       "       'C50.2-Upper-inner quadrant of breast', 'C18.2-Ascending colon',\n",
       "       'C50.8-Overlapping lesion of breast',\n",
       "       'C67.4-Posterior wall of bladder', 'C68.9-Urinary system, NOS',\n",
       "       'C20.9-Rectum, NOS', 'C34.1-Upper lobe, lung', 'C64.9-Kidney, NOS',\n",
       "       'C67.6-Ureteric orifice', 'C15.5-Lower third of esophagus',\n",
       "       'C67.8-Overlapping lesion of bladder', 'C00.0-External upper lip',\n",
       "       'C18.1-Appendix', 'C34.0-Main bronchus',\n",
       "       'C44.6-Skin of upper limb and shoulder', 'C67.9-Bladder, NOS',\n",
       "       'C18.7-Sigmoid colon', 'C34.9-Lung, NOS', 'C18.0-Cecum',\n",
       "       'C01.9-Base of tongue, NOS', 'C25.0-Head of pancreas',\n",
       "       'C67.3-Anterior wall of bladder',\n",
       "       'C50.5-Lower-outer quadrant of breast',\n",
       "       'C17.9-Small intestine, NOS', 'C34.2-Middle lobe, lung',\n",
       "       'C17.0-Duodenum', 'C71.8-Overlapping lesion of brain',\n",
       "       'C18.9-Colon, NOS', 'C77.8-Lymph nodes of multiple regions',\n",
       "       'C44.5-Skin of trunk', 'C71.1-Frontal lobe', 'C73.9-Thyroid gland',\n",
       "       'C44.7-Skin of lower limb and hip',\n",
       "       'C49.6-Conn, subcutaneous, other soft tis: trunk, NOS',\n",
       "       'C02.8-Overlapping lesion of tongue', 'C16.9-Stomach, NOS',\n",
       "       'C15.9-Esophagus, NOS', 'C18.4-Transverse colon', 'C56.9-Ovary',\n",
       "       'C48.1-Specified parts of peritoneum', 'C44.1-Eyelid',\n",
       "       'C00.1-External lower lip', 'C62.1-Descended testis',\n",
       "       'C49.9-Conn, subcutaneous and other soft tissues, NOS',\n",
       "       'C77.1-Intrathoracic lymph nodes', 'C07.9-Parotid gland',\n",
       "       'C49.4-Conn, subcutaneous, other soft tis: abdomen',\n",
       "       'C67.2-Lateral wall of bladder', 'C51.9-Vulva, NOS',\n",
       "       'C31.9-Accessory sinus, NOS', 'C53.9-Cervix uteri',\n",
       "       'C26.9-Gastrointestinal tract, NOS', 'C25.1-Body of pancreas',\n",
       "       'C21.1-Anal canal', 'C69.0-Conjunctiva', 'C44.0-Skin of lip, NOS',\n",
       "       'C18.3-Hepatic flexure of colon', 'C50.6-Axillary tail of breast',\n",
       "       'C24.0-Extrahepatic bile duct',\n",
       "       'C77.3-Lymph nodes of axilla or arm', 'C16.2-Body of stomach',\n",
       "       'C71.2-Temporal lobe', 'C48.0-Retroperitoneum',\n",
       "       'C38.4-Pleura, NOS', 'C00.9-Lip, NOS',\n",
       "       'C76.0-Head, face or neck, NOS', 'C32.1-Supraglottis',\n",
       "       'C51.8-Overlapping lesion of vulva', 'C32.0-Glottis',\n",
       "       'C22.1-Intrahepatic bile duct', 'C44.2-External ear',\n",
       "       'C25.2-Tail of pancreas', 'C06.9-Mouth, NOS',\n",
       "       'C49.0-Conn, subcutaneous, other soft tis: head, face, neck',\n",
       "       'C67.0-Trigone of bladder', 'C04.0-Anterior floor of mouth',\n",
       "       'C06.2-Retromolar area', 'C25.9-Pancreas, NOS',\n",
       "       'C09.9-Tonsil, NOS', 'C77.2-Intra-abdominal lymph nodes',\n",
       "       'C77.0-Lymph nodes of head, face & neck',\n",
       "       'C15.4-Middle third of esophagus', 'C69.3-Choroid',\n",
       "       'C77.4-Lymph nodes of inguinal region or leg',\n",
       "       'C02.2-Ventral surface of tongue, NOS', 'C42.0-Blood',\n",
       "       'C05.0-Hard palate', 'C18.6-Descending colon',\n",
       "       'C30.0-Nasal cavity', 'C71.7-Brain stem',\n",
       "       'C10.8-Overlapping lesion of oropharynx',\n",
       "       'C02.3-Anterior 2/3 of tongue, NOS', 'C21.0-Anus, NOS',\n",
       "       'C04.9-Floor of mouth, NOS', 'C18.8-Overlapping lesion of colon',\n",
       "       'C03.0-Upper gum', 'C03.1-Lower gum', 'C71.3-Parietal lobe',\n",
       "       'C44.9-Skin, NOS', 'C50.0-Nipple', 'C52.9-Vagina, NOS',\n",
       "       'C41.1-Mandible', 'C77.9-Lymph node, NOS', 'C67.5-Bladder neck',\n",
       "       'C17.1-Jejunum', 'C48.2-Peritoneum, NOS', 'C10.9-Oropharynx, NOS',\n",
       "       'C15.8-Overlapping lesion of esophagus', 'C11.9-Nasopharynx, NOS',\n",
       "       'C02.9-Tongue, NOS', 'C71.9-Brain, NOS',\n",
       "       'C16.5-Lesser curvature of stomach NOS',\n",
       "       'C25.7-Other specified parts of pancreas',\n",
       "       'C25.8-Overlapping lesion of pancreas', 'C24.1-Ampulla of Vater',\n",
       "       'C57.9-Female genital tract, NOS',\n",
       "       'C49.3-Conn, subcutaneous, other soft tis: thorax',\n",
       "       'C67.1-Dome of bladder', 'C60.2-Body of penis',\n",
       "       'C34.8-Overlapping lesion of lung', 'C05.1-Soft palate, NOS',\n",
       "       'C24.9-Biliary tract, NOS', 'C23.9-Gallbladder',\n",
       "       'C49.1-Conn, subcutaneous, other soft tis: upr limb, shoulder',\n",
       "       'C15.3-Upper third of esophagus',\n",
       "       'C49.5-Conn, subcutaneous, other soft tis: pelvis', 'C17.2-Ileum',\n",
       "       'C16.8-Overlapping lesion of stomach',\n",
       "       'C49.2-Conn, subcutaneous, other soft tis: lower limb, hip',\n",
       "       'C69.6-Orbit, NOS', 'C16.1-Fundus of stomach', 'C55.9-Uterus, NOS',\n",
       "       'C31.1-Ethmoid sinus', 'C18.5-Splenic flexure of colon',\n",
       "       'C57.0-Fallopian tube', 'C66.9-Ureter', 'C03.9-Gum, NOS',\n",
       "       'C31.0-Maxillary sinus', 'C15.1-Thoracic esophagus',\n",
       "       'C09.1-Tonsillar pillar',\n",
       "       'C41.4-Pelvic bones, sacrum, coccyx and associated joints',\n",
       "       'C16.3-Gastric antrum', 'C14.0-Pharynx, NOS',\n",
       "       'C12.9-Pyriform sinus', 'C37.9-Thymus', 'C25.3-Pancreatic duct',\n",
       "       'C41.3-Rib, sternum, clavicle and associated joints',\n",
       "       'C06.0-Cheek mucosa', 'C15.0-Cervical esophagus',\n",
       "       'C71.6-Cerebellum, NOS', 'C68.0-Urethra', 'C41.2-Vertebral column',\n",
       "       'C54.2-Myometrium', 'C16.4-Pylorus', 'C32.9-Larynx, NOS',\n",
       "       'C71.5-Ventricle, NOS', 'C08.0-Submandibular gland',\n",
       "       'C21.8-Overlapping lesion of rectum, anus, and anal canal',\n",
       "       'C16.6-Greater curvature of stomach NOS', 'C54.3-Fundus uteri',\n",
       "       'C42.2-Spleen', 'C62.9-Testis, NOS', 'C30.1-Middle ear',\n",
       "       'C05.8-Overlapping lesion of palate', 'C70.0-Cerebral meninges',\n",
       "       'C40.2-Long bones of lower limb and associated joints',\n",
       "       'C09.0-Tonsillar fossa',\n",
       "       'C17.8-Overlapping lesion of small intestine',\n",
       "       'C47.0-Periph nerves & autonomic nerv sys: head, face, neck',\n",
       "       'C47.4-Periph nerves & autonomic nerv sys: abdomen',\n",
       "       'C69.5-Lacrimal gland', 'C13.1-Aryepiglottic fold, hypopharyngeal',\n",
       "       'C33.9-Trachea', 'C32.8-Overlapping lesion of larynx',\n",
       "       'C60.1-Glans penis', 'C13.9-Hypopharynx, NOS',\n",
       "       'C00.4-Mucosa of lower lip', 'C11.1-Posterior wall of nasopharynx',\n",
       "       'C76.5-Lower limb, NOS', 'C53.0-Endocervix',\n",
       "       'C71.4-Occipital lobe', 'C69.4-Ciliary body', 'C51.2-Clitoris',\n",
       "       'C15.2-Abdominal esophagus',\n",
       "       'C41.0-Bones of skull and face and associated joints',\n",
       "       'C08.9-Major salivary gland, NOS', 'C00.6-Commissure of lip',\n",
       "       'C71.0-Cerebrum', 'C60.8-Overlapping lesion of penis',\n",
       "       'C40.0-Long bones: upper limb, scapula, and associated joints',\n",
       "       'C38.3-Mediastinum, NOS',\n",
       "       'C68.8-Overlapping lesion of urinary organs',\n",
       "       'C77.5-Pelvic lymph nodes', 'C31.2-Frontal sinus',\n",
       "       'C02.1-Border of tongue', 'C57.1-Broad ligament',\n",
       "       'C13.8-Overlapping lesion of hypopharynx', 'C05.2-Uvula',\n",
       "       'C32.2-Subglottis', 'C06.1-Vestibule of mouth',\n",
       "       'C75.3-Pineal gland', 'C67.7-Urachus', 'C51.0-Labium majus',\n",
       "       'C60.9-Penis, NOS', 'C76.2-Abdomen, NOS',\n",
       "       'C48.8-Overlapping lesion of retroperitoneum & peritoneum',\n",
       "       'C10.3-Posterior wall of oropharynx', 'C51.1-Labium minus',\n",
       "       'C60.0-Prepuce', 'C32.3-Laryngeal cartilage',\n",
       "       'C31.3-Sphenoid sinus', 'C69.9-Eye, NOS',\n",
       "       'C04.8-Overlapping lesion of floor of mouth',\n",
       "       'C13.0-Postcricoid region',\n",
       "       'C14.8-Overlapping lesion of lip, oral cavity & pharynx',\n",
       "       'C72.0-Spinal cord', 'C54.9-Corpus uteri', 'C38.0-Heart',\n",
       "       'C11.2-Lateral wall of nasopharynx', 'C26.0-Intestinal tract, NOS',\n",
       "       'C00.2-External lip, NOS', 'C17.3-Meckels diverticulum',\n",
       "       'C08.1-Sublingual gland', 'C10.0-Vallecula',\n",
       "       'C49.8-Overlap conn, subcutaneous, and other soft tissues',\n",
       "       'C63.2-Scrotum, NOS', 'C53.8-Overlapping lesion of cervix uteri',\n",
       "       'C13.2-Posterior wall of hypopharynx',\n",
       "       'C04.1-Lateral floor of mouth', 'C41.9-Bone, NOS',\n",
       "       'C02.0-Dorsal surface of tongue, NOS', 'C21.2-Cloacogenic zone',\n",
       "       'C05.9-Palate, NOS',\n",
       "       'C26.8-Overlapping lesion of digestive system',\n",
       "       'C63.8-Overlapping lesion of male genital organs',\n",
       "       'C40.9-Bone of limb, NOS',\n",
       "       'C06.8-Overlapping lesion of other & unspecified mouth',\n",
       "       'C10.2-Lateral wall of oropharynx', 'C25.4-Islets of Langerhans',\n",
       "       'C09.8-Overlapping lesion of tonsil',\n",
       "       'C11.8-Overlapping lesion of nasopharynx',\n",
       "       'C75.0-Parathyroid gland',\n",
       "       'C31.8-Overlapping lesion of accessory sinuses',\n",
       "       'C02.4-Lingual tonsil',\n",
       "       'C24.8-Overlapping lesion of biliary tract', 'C69.2-Retina',\n",
       "       'C74.0-Cortex of adrenal gland',\n",
       "       'C11.0-Superior wall of nasopharynx', 'C76.3-Pelvis, NOS',\n",
       "       'C54.8-Overlapping lesion of corpus uteri',\n",
       "       'C47.1-Periph nerves & autonomic nerv sys: upr limb, shoulder',\n",
       "       'C75.9-Endocrine gland, NOS',\n",
       "       'C10.1-Anterior surface of epiglottis',\n",
       "       'C72.9-Nervous system, NOS', 'C00.3-Mucosa of upper lip',\n",
       "       'C53.1-Exocervix',\n",
       "       'C57.7-Other specified parts of female genital organs',\n",
       "       'C62.0-Undescended testis',\n",
       "       'C40.3-Short bones of lower limb and associated joints',\n",
       "       'C38.2-Posterior mediastinum',\n",
       "       'C40.1-Short bones of upper limb and associated joints',\n",
       "       'C74.1-Medulla of adrenal gland',\n",
       "       'C47.2-Periph nerves & autonomic nerv sys: lower limb, hip',\n",
       "       'C72.3-Optic nerve', 'C63.1-Spermatic cord', 'C58.9-Placenta',\n",
       "       'C75.1-Pituitary gland', 'C57.4-Uterine adnexa',\n",
       "       'C69.1-Cornea, NOS', 'C75.2-Craniopharyngeal duct',\n",
       "       'C57.8-Overlapping lesion of female genital organs',\n",
       "       'C11.3-Anterior wall of nasopharynx',\n",
       "       'C47.9-Autonomic nervous system, NOS', 'C70.9-Meninges, NOS',\n",
       "       'C63.0-Epididymis', 'C75.5-Aortic body & other paraganglia',\n",
       "       'C72.5-Cranial nerve, NOS',\n",
       "       'C47.5-Periph nerves & autonomic nerv sys: pelvis',\n",
       "       'C47.3-Periph nerves & autonomic nerv sys: thorax',\n",
       "       'C70.1-Spinal meninges', 'C14.2-Waldeyers ring',\n",
       "       'C72.1-Cauda equina',\n",
       "       'C63.7-Other specified parts of male genital organs',\n",
       "       'C54.0-Isthmus uteri', 'C42.3-Reticuloendothelial system, NOS',\n",
       "       'C72.2-Olfactory nerve', 'C75.4-Carotid body',\n",
       "       'C47.6-Periph nerves & autonomic nerv sys: trunk, NOS',\n",
       "       'C00.5-Mucosa of lip, NOS', 'C10.4-Branchial cleft',\n",
       "       'C76.1-Thorax, NOS',\n",
       "       'C08.8-Overlapping lesion of major salivary glands',\n",
       "       'C63.9-Male genital organs, NOS',\n",
       "       'C69.8-Overlapping lesion of eye and adnexa',\n",
       "       'C41.8-Overlap bones, joints, and art. cartilage',\n",
       "       'C42.4-Hematopoietic system, NOS', 'C57.3-Parametrium',\n",
       "       'C38.8-Overlapping lesion of heart, mediastinum and pleura',\n",
       "       'C72.8-Overlapping lesion of brain & CNS',\n",
       "       'C76.8-Overlapping lesion of ill-defined sites',\n",
       "       'C40.8-Overlap of bones, joints, and art. cartilage of limbs',\n",
       "       'C57.2-Round ligament',\n",
       "       'C39.9-Ill-defined sites within respiratory system',\n",
       "       'C39.8-Overlapping lesion of respiratory system',\n",
       "       'C39.0-Upper respiratory tract, NOS', 'C72.4-Acoustic nerve',\n",
       "       'C76.7-Other ill-defined sites', 'C00.8-Overlapping lesion of lip',\n",
       "       'C76.4-Upper limb, NOS',\n",
       "       'C47.8-Overlap of peripheral nerves and autonomic nerv sys'],\n",
       "      dtype=object)"
      ]
     },
     "execution_count": 10,
     "metadata": {},
     "output_type": "execute_result"
    }
   ],
   "source": [
    "# See all unique values in the column\n",
    "pd.set_option('display.max_rows', None)   # show all rows\n",
    "pd.set_option('display.max_columns', None)  # show all columns\n",
    "\n",
    "# Example: view all unique categories\n",
    "df['primary_site'].unique()"
   ]
  },
  {
   "cell_type": "code",
   "execution_count": 11,
   "id": "344aced3",
   "metadata": {},
   "outputs": [],
   "source": [
    "def collapse_primary_site(value):\n",
    "    code = value.split('-')[0]  # e.g., \"C50.9\"\n",
    "    num = int(code[1:3])        # e.g., 50\n",
    "    \n",
    "    if 0 <= num <= 14:\n",
    "        return \"Lip/Oral/Pharynx\"\n",
    "    elif 15 <= num <= 26:\n",
    "        return \"Digestive system\"\n",
    "    elif 30 <= num <= 39:\n",
    "        return \"Respiratory system\"\n",
    "    elif 40 <= num <= 41:\n",
    "        return \"Bone\"\n",
    "    elif num == 42:\n",
    "        return \"Hematopoietic system\"\n",
    "    elif num == 44:\n",
    "        return \"Skin\"\n",
    "    elif 47 <= num <= 49:\n",
    "        return \"Soft tissue\"\n",
    "    elif num == 50:\n",
    "        return \"Breast\"\n",
    "    elif 51 <= num <= 58:\n",
    "        return \"Female genital organs\"\n",
    "    elif 60 <= num <= 63:\n",
    "        return \"Male genital organs\"\n",
    "    elif 64 <= num <= 68:\n",
    "        return \"Urinary system\"\n",
    "    elif 69 <= num <= 72:\n",
    "        return \"Eye/Brain/CNS\"\n",
    "    elif 73 <= num <= 75:\n",
    "        return \"Endocrine system\"\n",
    "    elif 76 <= num <= 80:\n",
    "        return \"Ill-defined/Unknown\"\n",
    "    else:\n",
    "        return \"Other\"\n",
    "\n",
    "# Apply mapping\n",
    "df['PrimarySiteGroup'] = df['primary_site'].apply(collapse_primary_site)\n"
   ]
  },
  {
   "cell_type": "code",
   "execution_count": 12,
   "id": "d1405e46",
   "metadata": {},
   "outputs": [
    {
     "data": {
      "text/plain": [
       "14"
      ]
     },
     "execution_count": 12,
     "metadata": {},
     "output_type": "execute_result"
    }
   ],
   "source": [
    "df['PrimarySiteGroup'].nunique()\n"
   ]
  },
  {
   "cell_type": "code",
   "execution_count": 13,
   "id": "4e460bd3",
   "metadata": {},
   "outputs": [
    {
     "data": {
      "text/plain": [
       "array(['Digestive system', 'Respiratory system', 'Skin',\n",
       "       'Endocrine system', 'Female genital organs',\n",
       "       'Hematopoietic system', 'Breast', 'Urinary system',\n",
       "       'Male genital organs', 'Ill-defined/Unknown', 'Lip/Oral/Pharynx',\n",
       "       'Eye/Brain/CNS', 'Soft tissue', 'Bone'], dtype=object)"
      ]
     },
     "execution_count": 13,
     "metadata": {},
     "output_type": "execute_result"
    }
   ],
   "source": [
    "df['PrimarySiteGroup'].unique()"
   ]
  },
  {
   "cell_type": "markdown",
   "id": "18f2b13d",
   "metadata": {},
   "source": [
    "# collapsing general cod"
   ]
  },
  {
   "cell_type": "code",
   "execution_count": 14,
   "id": "ea998eae",
   "metadata": {},
   "outputs": [
    {
     "data": {
      "text/plain": [
       "94"
      ]
     },
     "execution_count": 14,
     "metadata": {},
     "output_type": "execute_result"
    }
   ],
   "source": [
    "df['cod'].nunique()"
   ]
  },
  {
   "cell_type": "code",
   "execution_count": 15,
   "id": "8c6735a7",
   "metadata": {},
   "outputs": [
    {
     "data": {
      "text/plain": [
       "array(['Alive', 'Trachea, Mediastinum and Other Respiratory Organs',\n",
       "       'Other Cause of Death', 'Urinary Bladder', 'Corpus Uteri',\n",
       "       'Myeloma', 'Diseases of Heart', 'Breast',\n",
       "       'Kidney and Renal Pelvis', 'Alzheimers (ICD-9 and 10 only)',\n",
       "       'Esophagus', 'Liver',\n",
       "       'In situ, benign or unknown behavior neoplasm',\n",
       "       'Non-Hodgkin Lymphoma', 'Lung and Bronchus',\n",
       "       'Chronic Obstructive Pulmonary Disease and Allied Cond',\n",
       "       'Other Urinary Organs',\n",
       "       'Other Infectious and Parasitic Diseases including HIV',\n",
       "       'Cerebrovascular Diseases', 'Prostate', 'Ureter',\n",
       "       'Colon excluding Rectum', 'Other Digestive Organs',\n",
       "       'Pneumonia and Influenza', 'Acute Myeloid Leukemia', 'Pancreas',\n",
       "       'Uterus, NOS', 'Brain and Other Nervous System',\n",
       "       'Nephritis, Nephrotic Syndrome and Nephrosis',\n",
       "       'Rectum and Rectosigmoid Junction', 'Soft Tissue including Heart',\n",
       "       'Miscellaneous Malignant Cancer', 'Ovary',\n",
       "       'Intrahepatic Bile Duct', 'Homicide and Legal Intervention',\n",
       "       'Non-Melanoma Skin', 'Thyroid', 'Septicemia',\n",
       "       'Anus, Anal Canal and Anorectum',\n",
       "       'Hypertension without Heart Disease',\n",
       "       'State DC not available or state DC available but no COD',\n",
       "       'Diabetes Mellitus', 'Other Oral Cavity and Pharynx', 'Larynx',\n",
       "       'Accidents and Adverse Effects', 'Aortic Aneurysm and Dissection',\n",
       "       'Vulva', 'Hodgkin Lymphoma', 'Aleukemic, Subleukemic and NOS',\n",
       "       'Melanoma of the Skin', 'Atherosclerosis',\n",
       "       'Stomach and Duodenal Ulcers', 'Nasopharynx',\n",
       "       'Chronic Lymphocytic Leukemia', 'Small Intestine',\n",
       "       'Acute Lymphocytic Leukemia', 'Other Biliary', 'Hypopharynx',\n",
       "       'Symptoms, Signs and Ill-Defined Conditions',\n",
       "       'Nose, Nasal Cavity and Middle Ear', 'Stomach',\n",
       "       'Suicide and Self-Inflicted Injury', 'Other Lymphocytic Leukemia',\n",
       "       'Tongue', 'Bones and Joints', 'Other Acute Leukemia',\n",
       "       'Other Myeloid/Monocytic Leukemia', 'Congenital Anomalies',\n",
       "       'Peritoneum, Omentum and Mesentery',\n",
       "       'Chronic Liver Disease and Cirrhosis', 'Vagina', 'Tonsil',\n",
       "       'Other Endocrine including Thymus',\n",
       "       'Other Diseases of Arteries, Arterioles, Capillaries', 'Testis',\n",
       "       'Gum and Other Mouth', 'Pleura', 'Gallbladder', 'Cervix Uteri',\n",
       "       'Salivary Gland', 'Chronic Myeloid Leukemia', 'Oropharynx',\n",
       "       'Retroperitoneum', 'Other Female Genital Organs', 'Tuberculosis',\n",
       "       'Eye and Orbit', 'Lip', 'Floor of Mouth', 'Penis',\n",
       "       'Acute Monocytic Leukemia',\n",
       "       'Complications of Pregnancy, Childbirth, Puerperium',\n",
       "       'Certain Conditions Originating in Perinatal Period',\n",
       "       'Other Male Genital Organs', 'Syphilis'], dtype=object)"
      ]
     },
     "execution_count": 15,
     "metadata": {},
     "output_type": "execute_result"
    }
   ],
   "source": [
    "df['cod'].unique()"
   ]
  },
  {
   "cell_type": "code",
   "execution_count": 16,
   "id": "13d5d9e7",
   "metadata": {},
   "outputs": [],
   "source": [
    "def collapse_cod(value):\n",
    "    if value == \"Alive\":\n",
    "        return \"Alive\"\n",
    "    \n",
    "    # Cancer-specific\n",
    "    cancer_cod = [\n",
    "        \"Lung and Bronchus\", \"Breast\", \"Prostate\", \"Colon excluding Rectum\",\n",
    "        \"Rectum and Rectosigmoid Junction\", \"Kidney and Renal Pelvis\",\n",
    "        \"Urinary Bladder\", \"Corpus Uteri\", \"Ovary\", \"Cervix Uteri\",\n",
    "        \"Brain and Other Nervous System\", \"Thyroid\", \"Esophagus\", \"Liver\",\n",
    "        \"Pancreas\", \"Stomach\", \"Gallbladder\", \"Small Intestine\",\n",
    "        \"Non-Hodgkin Lymphoma\", \"Hodgkin Lymphoma\", \"Myeloma\",\n",
    "        \"Acute Myeloid Leukemia\", \"Chronic Myeloid Leukemia\",\n",
    "        \"Acute Lymphocytic Leukemia\", \"Chronic Lymphocytic Leukemia\",\n",
    "        \"Other Myeloid/Monocytic Leukemia\", \"Other Lymphocytic Leukemia\",\n",
    "        \"Acute Monocytic Leukemia\", \"Soft Tissue including Heart\",\n",
    "        \"Bones and Joints\", \"Non-Melanoma Skin\", \"Melanoma of the Skin\",\n",
    "        \"Nasopharynx\", \"Larynx\", \"Anus, Anal Canal and Anorectum\",\n",
    "        \"Other Digestive Organs\", \"Other Oral Cavity and Pharynx\",\n",
    "        \"Salivary Gland\", \"Pleura\", \"Testis\", \"Penis\", \"Vagina\", \"Vulva\",\n",
    "        \"Eye and Orbit\", \"Retroperitoneum\", \"Peritoneum, Omentum and Mesentery\",\n",
    "        \"Tonsil\", \"Tongue\", \"Lip\", \"Floor of Mouth\", \"Oropharynx\",\n",
    "        \"Hypopharynx\", \"Nose, Nasal Cavity and Middle Ear\", \"Intrahepatic Bile Duct\"\n",
    "    ]\n",
    "    \n",
    "    if value in cancer_cod:\n",
    "        return \"Cancer-specific death\"\n",
    "    \n",
    "    # Other disease\n",
    "    other_disease = [\n",
    "        \"Diseases of Heart\", \"Cerebrovascular Diseases\",\n",
    "        \"Aortic Aneurysm and Dissection\", \"Hypertension without Heart Disease\",\n",
    "        \"Atherosclerosis\", \"Other Diseases of Arteries, Arterioles, Capillaries\",\n",
    "        \"Chronic Obstructive Pulmonary Disease and Allied Cond\",\n",
    "        \"Pneumonia and Influenza\", \"Tuberculosis\",\n",
    "        \"Chronic Liver Disease and Cirrhosis\", \"Nephritis, Nephrotic Syndrome and Nephrosis\",\n",
    "        \"Diabetes Mellitus\", \"Alzheimers (ICD-9 and 10 only)\", \"Septicemia\",\n",
    "        \"Congenital Anomalies\", \"Stomach and Duodenal Ulcers\",\n",
    "        \"Other Infectious and Parasitic Diseases including HIV\",\n",
    "        \"Other Endocrine including Thymus\"\n",
    "    ]\n",
    "    if value in other_disease:\n",
    "        return \"Other disease-related death\"\n",
    "    \n",
    "    # External causes\n",
    "    external = [\n",
    "        \"Accidents and Adverse Effects\", \"Suicide and Self-Inflicted Injury\",\n",
    "        \"Homicide and Legal Intervention\", \"Complications of Pregnancy, Childbirth, Puerperium\",\n",
    "        \"Certain Conditions Originating in Perinatal Period\"\n",
    "    ]\n",
    "    if value in external:\n",
    "        return \"External causes\"\n",
    "    \n",
    "    # Unknown/Ill-defined\n",
    "    return \"Unknown/Ill-defined\"\n",
    "\n",
    "# Apply collapse\n",
    "df['COD_collapsed'] = df['cod'].apply(collapse_cod)\n"
   ]
  },
  {
   "cell_type": "markdown",
   "id": "ee25f6a4",
   "metadata": {},
   "source": [
    "# dropping na"
   ]
  },
  {
   "cell_type": "code",
   "execution_count": 17,
   "id": "255fe854",
   "metadata": {},
   "outputs": [],
   "source": [
    "df = df.dropna()"
   ]
  },
  {
   "cell_type": "code",
   "execution_count": 18,
   "id": "e2aaab16",
   "metadata": {},
   "outputs": [
    {
     "data": {
      "text/plain": [
       "ID                               0\n",
       "age                              0\n",
       "sex                              0\n",
       "race                             0\n",
       "marital_status                   0\n",
       "household_income                 0\n",
       "location                         0\n",
       "year                             0\n",
       "primary_site                     0\n",
       "tumor_size                       0\n",
       "tumor_spread                     0\n",
       "tumor_lymph_nodes                0\n",
       "length_from_primary_diagnosis    0\n",
       "AJCC_stage                       0\n",
       "surgery_primary                  0\n",
       "radiation                        0\n",
       "chemotherapy                     0\n",
       "survival_month                   0\n",
       "cod                              0\n",
       "cod_case                         0\n",
       "vital_status                     0\n",
       "PrimarySiteGroup                 0\n",
       "COD_collapsed                    0\n",
       "dtype: int64"
      ]
     },
     "execution_count": 18,
     "metadata": {},
     "output_type": "execute_result"
    }
   ],
   "source": [
    "df.isna().sum()"
   ]
  },
  {
   "cell_type": "markdown",
   "id": "603b4f52",
   "metadata": {},
   "source": [
    "# filtering dead data"
   ]
  },
  {
   "cell_type": "code",
   "execution_count": 19,
   "id": "cef14500",
   "metadata": {},
   "outputs": [],
   "source": [
    "df['vital_status'].unique()\n",
    "df = df[df['vital_status']=='Dead']"
   ]
  },
  {
   "cell_type": "code",
   "execution_count": 20,
   "id": "83cba6c6",
   "metadata": {},
   "outputs": [
    {
     "name": "stdout",
     "output_type": "stream",
     "text": [
      "<class 'pandas.core.frame.DataFrame'>\n",
      "Index: 646467 entries, 1 to 1454489\n",
      "Data columns (total 23 columns):\n",
      " #   Column                         Non-Null Count   Dtype \n",
      "---  ------                         --------------   ----- \n",
      " 0   ID                             646467 non-null  int64 \n",
      " 1   age                            646467 non-null  int32 \n",
      " 2   sex                            646467 non-null  object\n",
      " 3   race                           646467 non-null  object\n",
      " 4   marital_status                 646467 non-null  object\n",
      " 5   household_income               646467 non-null  object\n",
      " 6   location                       646467 non-null  object\n",
      " 7   year                           646467 non-null  int64 \n",
      " 8   primary_site                   646467 non-null  object\n",
      " 9   tumor_size                     646467 non-null  int64 \n",
      " 10  tumor_spread                   646467 non-null  int64 \n",
      " 11  tumor_lymph_nodes              646467 non-null  int64 \n",
      " 12  length_from_primary_diagnosis  646467 non-null  int64 \n",
      " 13  AJCC_stage                     646467 non-null  object\n",
      " 14  surgery_primary                646467 non-null  int64 \n",
      " 15  radiation                      646467 non-null  object\n",
      " 16  chemotherapy                   646467 non-null  object\n",
      " 17  survival_month                 646467 non-null  object\n",
      " 18  cod                            646467 non-null  object\n",
      " 19  cod_case                       646467 non-null  object\n",
      " 20  vital_status                   646467 non-null  object\n",
      " 21  PrimarySiteGroup               646467 non-null  object\n",
      " 22  COD_collapsed                  646467 non-null  object\n",
      "dtypes: int32(1), int64(7), object(15)\n",
      "memory usage: 115.9+ MB\n"
     ]
    }
   ],
   "source": [
    "df.info()"
   ]
  },
  {
   "cell_type": "markdown",
   "id": "f1711bd5",
   "metadata": {},
   "source": [
    "# collapsing cause of death"
   ]
  },
  {
   "cell_type": "code",
   "execution_count": 21,
   "id": "0a9cf720",
   "metadata": {},
   "outputs": [],
   "source": [
    "cod_map = {'Cancer-specific death':'Cancer',\n",
    "           'Other disease-related death': 'Other',\n",
    "           'Unknown/Ill-defined':'Other',\n",
    "           'External causes':'Other'}\n",
    "df['COD_2'] = df['COD_collapsed'].map(cod_map)"
   ]
  },
  {
   "cell_type": "code",
   "execution_count": 22,
   "id": "844cec01",
   "metadata": {},
   "outputs": [
    {
     "data": {
      "text/plain": [
       "COD_2\n",
       "Cancer    396992\n",
       "Other     249475\n",
       "Name: count, dtype: int64"
      ]
     },
     "execution_count": 22,
     "metadata": {},
     "output_type": "execute_result"
    }
   ],
   "source": [
    "df['COD_2'].value_counts()"
   ]
  },
  {
   "cell_type": "markdown",
   "id": "c3331af8",
   "metadata": {},
   "source": [
    "# collapsing location"
   ]
  },
  {
   "cell_type": "code",
   "execution_count": 23,
   "id": "91d171fd",
   "metadata": {},
   "outputs": [
    {
     "data": {
      "text/plain": [
       "location\n",
       "Counties in metropolitan areas ge 1 million pop                 311470\n",
       "Counties in metropolitan areas of 250,000 to 1 million pop      173686\n",
       "Nonmetropolitan counties adjacent to a metropolitan area         53938\n",
       "Counties in metropolitan areas of lt 250 thousand pop            53816\n",
       "Nonmetropolitan counties not adjacent to a metropolitan area     53249\n",
       "Unknown/missing/no match/Not 1990-2023                             308\n",
       "Name: count, dtype: int64"
      ]
     },
     "execution_count": 23,
     "metadata": {},
     "output_type": "execute_result"
    }
   ],
   "source": [
    "df['location'].value_counts(dropna=False)"
   ]
  },
  {
   "cell_type": "code",
   "execution_count": 24,
   "id": "27bd9522",
   "metadata": {},
   "outputs": [],
   "source": [
    "location_map = {'Counties in metropolitan areas ge 1 million pop':'metro',\n",
    "                'Counties in metropolitan areas of 250,000 to 1 million pop':'metro',\n",
    "                'Counties in metropolitan areas of lt 250 thousand pop':'metro',\n",
    "                'Nonmetropolitan counties adjacent to a metropolitan area':'remote',\n",
    "                'Nonmetropolitan counties not adjacent to a metropolitan area':'remote'}\n",
    "df['location_collapsed']=df['location'].map(location_map)"
   ]
  },
  {
   "cell_type": "code",
   "execution_count": 25,
   "id": "7ad49127",
   "metadata": {},
   "outputs": [
    {
     "data": {
      "text/plain": [
       "location_collapsed\n",
       "metro     538972\n",
       "remote    107187\n",
       "NaN          308\n",
       "Name: count, dtype: int64"
      ]
     },
     "execution_count": 25,
     "metadata": {},
     "output_type": "execute_result"
    }
   ],
   "source": [
    "df['location_collapsed'].value_counts(dropna=False)"
   ]
  },
  {
   "cell_type": "code",
   "execution_count": 26,
   "id": "07553e9c",
   "metadata": {},
   "outputs": [],
   "source": [
    "df['location_collapsed']=df['location_collapsed'].dropna()"
   ]
  },
  {
   "cell_type": "code",
   "execution_count": 27,
   "id": "bd6bf567",
   "metadata": {},
   "outputs": [],
   "source": [
    "df = df.dropna(subset=[\"location_collapsed\"])"
   ]
  },
  {
   "cell_type": "code",
   "execution_count": 28,
   "id": "633d07d6",
   "metadata": {},
   "outputs": [
    {
     "data": {
      "text/plain": [
       "location_collapsed\n",
       "metro     538972\n",
       "remote    107187\n",
       "Name: count, dtype: int64"
      ]
     },
     "execution_count": 28,
     "metadata": {},
     "output_type": "execute_result"
    }
   ],
   "source": [
    "df['location_collapsed'].value_counts(dropna=False)"
   ]
  },
  {
   "cell_type": "markdown",
   "id": "c719b9e6",
   "metadata": {},
   "source": [
    "# dropping year"
   ]
  },
  {
   "cell_type": "code",
   "execution_count": 29,
   "id": "c227efe0",
   "metadata": {},
   "outputs": [],
   "source": [
    "df = df.drop('year',axis=1)"
   ]
  },
  {
   "cell_type": "markdown",
   "id": "acd2d058",
   "metadata": {},
   "source": [
    "# dropping primary site"
   ]
  },
  {
   "cell_type": "code",
   "execution_count": 30,
   "id": "0fef39c6",
   "metadata": {},
   "outputs": [],
   "source": [
    "df = df.drop('primary_site',axis=1)"
   ]
  },
  {
   "cell_type": "markdown",
   "id": "12643d0b",
   "metadata": {},
   "source": [
    "# dropping income and locatin"
   ]
  },
  {
   "cell_type": "code",
   "execution_count": 31,
   "id": "ff5f7d84",
   "metadata": {},
   "outputs": [],
   "source": [
    "from pandas.api.types import CategoricalDtype\n",
    "\n",
    "income_order = [\n",
    "    \"< $40,000\",\n",
    "    \"$40,000 - $44,999\",\n",
    "    \"$45,000 - $49,999\",\n",
    "    \"$50,000 - $54,999\",\n",
    "    \"$55,000 - $59,999\",\n",
    "    \"$60,000 - $64,999\",\n",
    "    \"$65,000 - $69,999\",\n",
    "    \"$70,000 - $74,999\",\n",
    "    \"$75,000 - $79,999\",\n",
    "    \"$80,000 - $84,999\",\n",
    "    \"$85,000 - $89,999\",\n",
    "    \"$90,000 - $94,999\",\n",
    "    \"$95,000 - $99,999\",\n",
    "    \"$100,000 - $109,999\",\n",
    "    \"$110,000 - $119,999\",\n",
    "    \"$120,000+\",\n",
    "    ]\n",
    "\n",
    "income_dtype = CategoricalDtype(categories=income_order, ordered=True)\n",
    "\n",
    "df[\"income_cat\"] = df[\"household_income\"].astype(income_dtype)"
   ]
  },
  {
   "cell_type": "code",
   "execution_count": 32,
   "id": "55d2b352",
   "metadata": {},
   "outputs": [
    {
     "data": {
      "text/plain": [
       "income_cat\n",
       "< $40,000               2560\n",
       "$40,000 - $44,999       2480\n",
       "$45,000 - $49,999       5173\n",
       "$50,000 - $54,999      15206\n",
       "$55,000 - $59,999      20945\n",
       "$60,000 - $64,999      42054\n",
       "$65,000 - $69,999      49500\n",
       "$70,000 - $74,999      40912\n",
       "$75,000 - $79,999      75546\n",
       "$80,000 - $84,999      59073\n",
       "$85,000 - $89,999      67340\n",
       "$90,000 - $94,999      59276\n",
       "$95,000 - $99,999      83181\n",
       "$100,000 - $109,999    67529\n",
       "$110,000 - $119,999    41731\n",
       "$120,000+              13653\n",
       "Name: count, dtype: int64"
      ]
     },
     "execution_count": 32,
     "metadata": {},
     "output_type": "execute_result"
    }
   ],
   "source": [
    "df['income_cat'].value_counts(dropna=False,sort=False)"
   ]
  },
  {
   "cell_type": "code",
   "execution_count": 33,
   "id": "a595edfc",
   "metadata": {},
   "outputs": [],
   "source": [
    "df = df.drop(['household_income','location'],axis=1)"
   ]
  },
  {
   "cell_type": "markdown",
   "id": "df79550e",
   "metadata": {},
   "source": [
    "# filtering tumor size and spread"
   ]
  },
  {
   "cell_type": "code",
   "execution_count": 34,
   "id": "dcd5db81",
   "metadata": {},
   "outputs": [],
   "source": [
    "df['tumor_spread'].unique()\n",
    "df['tumor_size'].nunique()\n",
    "df.loc[df['tumor_size']>989,'tumor_size']=989"
   ]
  },
  {
   "cell_type": "code",
   "execution_count": 35,
   "id": "fdbe688f",
   "metadata": {},
   "outputs": [],
   "source": [
    "df.loc[df['tumor_spread']>989,'tumor_spread']=989"
   ]
  },
  {
   "cell_type": "markdown",
   "id": "bdf8c9db",
   "metadata": {},
   "source": [
    "# dropping unnecessary columns"
   ]
  },
  {
   "cell_type": "code",
   "execution_count": 36,
   "id": "76c05e4f",
   "metadata": {},
   "outputs": [],
   "source": [
    "df = df.drop('length_from_primary_diagnosis',axis=1)"
   ]
  },
  {
   "cell_type": "code",
   "execution_count": 37,
   "id": "ca26a372",
   "metadata": {},
   "outputs": [],
   "source": [
    "df=df.drop(['survival_month','cod','cod_case','vital_status','COD_collapsed'],axis=1)"
   ]
  },
  {
   "cell_type": "code",
   "execution_count": 38,
   "id": "5e90aa02",
   "metadata": {},
   "outputs": [
    {
     "name": "stdout",
     "output_type": "stream",
     "text": [
      "<class 'pandas.core.frame.DataFrame'>\n",
      "Index: 646159 entries, 1 to 1454489\n",
      "Data columns (total 16 columns):\n",
      " #   Column              Non-Null Count   Dtype   \n",
      "---  ------              --------------   -----   \n",
      " 0   ID                  646159 non-null  int64   \n",
      " 1   age                 646159 non-null  int32   \n",
      " 2   sex                 646159 non-null  object  \n",
      " 3   race                646159 non-null  object  \n",
      " 4   marital_status      646159 non-null  object  \n",
      " 5   tumor_size          646159 non-null  int64   \n",
      " 6   tumor_spread        646159 non-null  int64   \n",
      " 7   tumor_lymph_nodes   646159 non-null  int64   \n",
      " 8   AJCC_stage          646159 non-null  object  \n",
      " 9   surgery_primary     646159 non-null  int64   \n",
      " 10  radiation           646159 non-null  object  \n",
      " 11  chemotherapy        646159 non-null  object  \n",
      " 12  PrimarySiteGroup    646159 non-null  object  \n",
      " 13  COD_2               646159 non-null  object  \n",
      " 14  location_collapsed  646159 non-null  object  \n",
      " 15  income_cat          646159 non-null  category\n",
      "dtypes: category(1), int32(1), int64(5), object(9)\n",
      "memory usage: 77.0+ MB\n"
     ]
    }
   ],
   "source": [
    "df.info()"
   ]
  },
  {
   "cell_type": "markdown",
   "id": "e97b05f2",
   "metadata": {},
   "source": [
    "# collapsing cancer stage"
   ]
  },
  {
   "cell_type": "code",
   "execution_count": 39,
   "id": "c79c97da",
   "metadata": {},
   "outputs": [
    {
     "data": {
      "text/plain": [
       "array(['IB', 'IIC', 'IIIA', 'IIB', 'IIIB', 'III', 'II', 'UNK Stage',\n",
       "       'IIA', '0is', 'I', 'IV', 'IA', 'IVA', 'IIIC', '0', '0a', 'IIIESB',\n",
       "       'IVB', 'IB2', 'IEA', 'INOS', 'IEB', 'IC', 'OCCULT', 'IIEA', 'IVC',\n",
       "       'IE', 'IIEB', 'IINOS', 'IIINOS', 'IIIEB', 'IIIEA', 'IIE', 'IVNOS',\n",
       "       'IIIS', 'IA1', 'IA2', 'IIISA', 'IISB', 'IB1', 'IIS', 'ISA',\n",
       "       'IIISB', 'IISA', 'IIIE', 'IIIESA', 'IS', 'IIESB', 'IIIES', 'IIESA',\n",
       "       'IIES', 'ISB'], dtype=object)"
      ]
     },
     "execution_count": 39,
     "metadata": {},
     "output_type": "execute_result"
    }
   ],
   "source": [
    "df['AJCC_stage'].unique()"
   ]
  },
  {
   "cell_type": "code",
   "execution_count": 40,
   "id": "3a55de3b",
   "metadata": {},
   "outputs": [],
   "source": [
    "import numpy as np"
   ]
  },
  {
   "cell_type": "code",
   "execution_count": 41,
   "id": "c0e6bb87",
   "metadata": {},
   "outputs": [],
   "source": [
    "stage_map = {\n",
    "    # Stage 0\n",
    "    \"0\": \"0\", \"0IS\": \"0\", \"0A\": \"0\", \"OCCULT\": \"0\",\n",
    "    # Stage I\n",
    "    \"I\": \"I\", \"IA\": \"I\", \"IA1\": \"I\", \"IA2\": \"I\", \"IB\": \"I\", \"IB1\": \"I\", \"IB2\": \"I\", \"IC\": \"I\",\n",
    "    \"IS\": \"I\", \"ISB\": \"I\", \"IE\": \"I\", \"IEA\": \"I\", \"IEB\": \"I\", \"IEC\": \"I\", \"IE\": \"I\", \"ISA\": \"I\",\n",
    "    # Stage II\n",
    "    \"II\": \"II\", \"IIA\": \"II\", \"IIB\": \"II\", \"IIC\": \"II\", \"IIEA\": \"II\", \"IIEB\": \"II\", \"IIE\": \"II\",\n",
    "    \"IIS\": \"II\", \"IISB\": \"II\", \"IISA\": \"II\", \"IIES\": \"II\", \"IIESA\": \"II\", \"IIESB\": \"II\", \"IINOS\": np.nan,\n",
    "    # Stage III\n",
    "    \"III\": \"III\", \"IIIA\": \"III\", \"IIIB\": \"III\", \"IIIC\": \"III\", \"IIIEA\": \"III\", \"IIIEB\": \"III\", \"IIIE\": \"III\",\n",
    "    \"IIIES\": \"III\", \"IIIESA\": \"III\", \"IIIESB\": \"III\", \"IIIS\": \"III\", \"IIISB\": \"III\",\n",
    "    \"IIISA\": \"III\", \"IIINOS\": np.nan,\n",
    "    # Stage IV\n",
    "    \"IV\": \"IV\", \"IVA\": \"IV\", \"IVB\": \"IV\", \"IVC\": \"IV\", \"IVNOS\": np.nan,\n",
    "    # Unknown / missing\n",
    "    \"UNK Stage\": np.nan, \"INOS\": np.nan\n",
    "}\n",
    "\n",
    "# Apply mapping\n",
    "df[\"AJCC_collapsed\"] = df[\"AJCC_stage\"].map(stage_map)"
   ]
  },
  {
   "cell_type": "code",
   "execution_count": 42,
   "id": "bd1b207c",
   "metadata": {},
   "outputs": [
    {
     "data": {
      "text/plain": [
       "AJCC_collapsed\n",
       "IV     188679\n",
       "II     133406\n",
       "I      124486\n",
       "III    104334\n",
       "NaN     92092\n",
       "0        3162\n",
       "Name: count, dtype: int64"
      ]
     },
     "execution_count": 42,
     "metadata": {},
     "output_type": "execute_result"
    }
   ],
   "source": [
    "df['AJCC_collapsed'].value_counts(dropna=False)"
   ]
  },
  {
   "cell_type": "code",
   "execution_count": 43,
   "id": "d13e140d",
   "metadata": {},
   "outputs": [],
   "source": [
    "df= df.dropna()"
   ]
  },
  {
   "cell_type": "code",
   "execution_count": 44,
   "id": "9954a57b",
   "metadata": {},
   "outputs": [
    {
     "data": {
      "text/plain": [
       "AJCC_collapsed\n",
       "IV     188679\n",
       "II     133406\n",
       "I      124486\n",
       "III    104334\n",
       "0        3162\n",
       "Name: count, dtype: int64"
      ]
     },
     "execution_count": 44,
     "metadata": {},
     "output_type": "execute_result"
    }
   ],
   "source": [
    "df['AJCC_collapsed'].value_counts(dropna=False)"
   ]
  },
  {
   "cell_type": "code",
   "execution_count": 45,
   "id": "83c6a803",
   "metadata": {},
   "outputs": [
    {
     "name": "stdout",
     "output_type": "stream",
     "text": [
      "<class 'pandas.core.frame.DataFrame'>\n",
      "Index: 554067 entries, 1 to 1454486\n",
      "Data columns (total 17 columns):\n",
      " #   Column              Non-Null Count   Dtype   \n",
      "---  ------              --------------   -----   \n",
      " 0   ID                  554067 non-null  int64   \n",
      " 1   age                 554067 non-null  int32   \n",
      " 2   sex                 554067 non-null  object  \n",
      " 3   race                554067 non-null  object  \n",
      " 4   marital_status      554067 non-null  object  \n",
      " 5   tumor_size          554067 non-null  int64   \n",
      " 6   tumor_spread        554067 non-null  int64   \n",
      " 7   tumor_lymph_nodes   554067 non-null  int64   \n",
      " 8   AJCC_stage          554067 non-null  object  \n",
      " 9   surgery_primary     554067 non-null  int64   \n",
      " 10  radiation           554067 non-null  object  \n",
      " 11  chemotherapy        554067 non-null  object  \n",
      " 12  PrimarySiteGroup    554067 non-null  object  \n",
      " 13  COD_2               554067 non-null  object  \n",
      " 14  location_collapsed  554067 non-null  object  \n",
      " 15  income_cat          554067 non-null  category\n",
      " 16  AJCC_collapsed      554067 non-null  object  \n",
      "dtypes: category(1), int32(1), int64(5), object(10)\n",
      "memory usage: 70.3+ MB\n"
     ]
    }
   ],
   "source": [
    "df.info()"
   ]
  },
  {
   "cell_type": "code",
   "execution_count": 46,
   "id": "f0fea44e",
   "metadata": {},
   "outputs": [],
   "source": [
    "df = df.drop('AJCC_stage',axis=1)"
   ]
  },
  {
   "cell_type": "markdown",
   "id": "03aea66f",
   "metadata": {},
   "source": [
    "# collapsing surgery"
   ]
  },
  {
   "cell_type": "code",
   "execution_count": 47,
   "id": "2edbe2f6",
   "metadata": {},
   "outputs": [
    {
     "data": {
      "text/plain": [
       "array([60, 31, 33, 50, 80, 41, 21,  0, 30, 44, 27, 51, 40, 26, 25, 22, 45,\n",
       "       57, 59, 23, 20, 52, 98, 32, 55, 35, 42, 37, 70, 90, 49, 16, 14, 11,\n",
       "       24, 61, 71, 19, 54, 28, 36, 47, 53, 46, 67, 56, 15, 34, 72, 65, 12,\n",
       "       66, 64, 43, 62, 77, 13, 48, 10, 38, 63, 99, 29, 73, 17, 69, 58, 75,\n",
       "       74, 78, 76, 18, 68], dtype=int64)"
      ]
     },
     "execution_count": 47,
     "metadata": {},
     "output_type": "execute_result"
    }
   ],
   "source": [
    "df['surgery_primary'].unique()"
   ]
  },
  {
   "cell_type": "code",
   "execution_count": 48,
   "id": "2fa012ec",
   "metadata": {},
   "outputs": [],
   "source": [
    "df.loc[df['surgery_primary']>0,'surgery_primary']=1"
   ]
  },
  {
   "cell_type": "code",
   "execution_count": 49,
   "id": "59fc2325",
   "metadata": {},
   "outputs": [
    {
     "data": {
      "text/plain": [
       "surgery_primary\n",
       "0    285482\n",
       "1    268585\n",
       "Name: count, dtype: int64"
      ]
     },
     "execution_count": 49,
     "metadata": {},
     "output_type": "execute_result"
    }
   ],
   "source": [
    "# 0 for no, 1 for yes\n",
    "df['surgery_primary'].value_counts(dropna=False)"
   ]
  },
  {
   "cell_type": "markdown",
   "id": "433e1a12",
   "metadata": {},
   "source": [
    "# radiation"
   ]
  },
  {
   "cell_type": "code",
   "execution_count": 50,
   "id": "0a35f33b",
   "metadata": {},
   "outputs": [],
   "source": [
    "yes_set = {\n",
    "    \"Beam radiation\",\n",
    "    \"Radioactive implants (includes brachytherapy) (1988+)\",\n",
    "    \"Combination of beam with implants or isotopes\",\n",
    "    \"Radioisotopes (1988+)\"\n",
    "}\n",
    "\n",
    "no_set = {\n",
    "    \"None/Unknown\",\n",
    "    \"Refused (1988+)\",\n",
    "    \"Recommended, unknown if administered\",\n",
    "    \"Radiation, NOS  method or source not specified\"\n",
    "}\n",
    "\n",
    "df[\"radiation_collapsed\"] = df[\"radiation\"].apply(lambda x: 1 if x in yes_set else 0)"
   ]
  },
  {
   "cell_type": "code",
   "execution_count": 51,
   "id": "3e5dc3d4",
   "metadata": {},
   "outputs": [
    {
     "data": {
      "text/plain": [
       "radiation_collapsed\n",
       "0    384506\n",
       "1    169561\n",
       "Name: count, dtype: int64"
      ]
     },
     "execution_count": 51,
     "metadata": {},
     "output_type": "execute_result"
    }
   ],
   "source": [
    "df['radiation_collapsed'].value_counts()"
   ]
  },
  {
   "cell_type": "code",
   "execution_count": 52,
   "id": "b8baa8e7",
   "metadata": {},
   "outputs": [],
   "source": [
    "df = df.drop('radiation',axis=1)"
   ]
  },
  {
   "cell_type": "code",
   "execution_count": 53,
   "id": "7079edf2",
   "metadata": {},
   "outputs": [],
   "source": [
    "df = df.drop('ID',axis=1)"
   ]
  },
  {
   "cell_type": "code",
   "execution_count": 54,
   "id": "f7ce71b0",
   "metadata": {},
   "outputs": [
    {
     "name": "stdout",
     "output_type": "stream",
     "text": [
      "<class 'pandas.core.frame.DataFrame'>\n",
      "Index: 554067 entries, 1 to 1454486\n",
      "Data columns (total 15 columns):\n",
      " #   Column               Non-Null Count   Dtype   \n",
      "---  ------               --------------   -----   \n",
      " 0   age                  554067 non-null  int32   \n",
      " 1   sex                  554067 non-null  object  \n",
      " 2   race                 554067 non-null  object  \n",
      " 3   marital_status       554067 non-null  object  \n",
      " 4   tumor_size           554067 non-null  int64   \n",
      " 5   tumor_spread         554067 non-null  int64   \n",
      " 6   tumor_lymph_nodes    554067 non-null  int64   \n",
      " 7   surgery_primary      554067 non-null  int64   \n",
      " 8   chemotherapy         554067 non-null  object  \n",
      " 9   PrimarySiteGroup     554067 non-null  object  \n",
      " 10  COD_2                554067 non-null  object  \n",
      " 11  location_collapsed   554067 non-null  object  \n",
      " 12  income_cat           554067 non-null  category\n",
      " 13  AJCC_collapsed       554067 non-null  object  \n",
      " 14  radiation_collapsed  554067 non-null  int64   \n",
      "dtypes: category(1), int32(1), int64(5), object(8)\n",
      "memory usage: 61.8+ MB\n"
     ]
    }
   ],
   "source": [
    "df.info()"
   ]
  },
  {
   "cell_type": "code",
   "execution_count": 55,
   "id": "c47b3d6d",
   "metadata": {},
   "outputs": [],
   "source": [
    "df.to_csv('final_data.csv',index=False)"
   ]
  },
  {
   "cell_type": "code",
   "execution_count": null,
   "id": "3bf60ce1",
   "metadata": {},
   "outputs": [],
   "source": []
  }
 ],
 "metadata": {
  "kernelspec": {
   "display_name": "base",
   "language": "python",
   "name": "python3"
  },
  "language_info": {
   "codemirror_mode": {
    "name": "ipython",
    "version": 3
   },
   "file_extension": ".py",
   "mimetype": "text/x-python",
   "name": "python",
   "nbconvert_exporter": "python",
   "pygments_lexer": "ipython3",
   "version": "3.12.7"
  }
 },
 "nbformat": 4,
 "nbformat_minor": 5
}
